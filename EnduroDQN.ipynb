{
 "cells": [
  {
   "cell_type": "code",
   "execution_count": null,
   "metadata": {},
   "outputs": [],
   "source": [
    "import gym\n",
    "import random\n",
    "import tensorflow as tf\n",
    "import numpy as np\n",
    "from collections import deque\n",
    "import matplotlib.pyplot as plt\n",
    "import keras\n",
    "import cv2\n",
    "from time import gmtime, strftime\n",
    "from Agent import *\n",
    "%matplotlib inline"
   ]
  },
  {
   "cell_type": "code",
   "execution_count": null,
   "metadata": {},
   "outputs": [],
   "source": [
    "env = gym.make('Enduro-v0')\n",
    "env.reset()\n",
    "env.seed(0)\n",
    "print('State shape: ', env.observation_space.shape)\n",
    "print('Number of actions: ', env.action_space.n)"
   ]
  },
  {
   "cell_type": "code",
   "execution_count": null,
   "metadata": {},
   "outputs": [],
   "source": [
    "actions = env.action_space.n\n",
    "agent = QAgent(actions)"
   ]
  },
  {
   "cell_type": "code",
   "execution_count": null,
   "metadata": {},
   "outputs": [],
   "source": [
    "def preprocess(observation):\n",
    "    observation = cv2.cvtColor(cv2.resize(observation, (84, 110)), cv2.COLOR_BGR2GRAY)\n",
    "    #the first 26 rows contain only the score, we can ignore them\n",
    "    observation = observation[26:110,:]\n",
    "    #ret,thresh1 = cv.threshold(img,lower,upper,cv.THRESH_BINARY) return whitr if < lower, black > upper \n",
    "    ret, observation = cv2.threshold(observation,1,255,cv2.THRESH_BINARY)\n",
    "    return np.reshape(observation,(84,84,1))\n",
    "\n",
    "\n",
    "action0 = 0  # do nothing\n",
    "env.reset()\n",
    "observation0, reward0, terminal, info = env.step(action0)\n",
    "print(\"Before processing: \" + str(np.array(observation0).shape))\n",
    "plt.imshow(np.array(observation0))\n",
    "plt.show()\n",
    "observation0 = preprocess(observation0)\n",
    "print(\"After processing: \" + str(np.array(observation0).shape))\n",
    "plt.imshow(np.array(np.squeeze(observation0)))\n",
    "plt.show()"
   ]
  },
  {
   "cell_type": "code",
   "execution_count": null,
   "metadata": {},
   "outputs": [],
   "source": [
    "agent.setInitState(observation0)\n",
    "agent.currentState = np.squeeze(agent.currentState)"
   ]
  },
  {
   "cell_type": "code",
   "execution_count": null,
   "metadata": {},
   "outputs": [],
   "source": [
    "while True:\n",
    "    action = agent.getAction()\n",
    "    actionmax = np.argmax(np.array(action))\n",
    "    \n",
    "    nextObservation,reward,terminal, info = env.step(actionmax)\n",
    "    \n",
    "    if terminal:\n",
    "        nextObservation = env.reset()\n",
    "    nextObservation = preprocess(nextObservation)\n",
    "    agent.setPerception(nextObservation,action,reward,terminal)"
   ]
  },
  {
   "cell_type": "code",
   "execution_count": null,
   "metadata": {},
   "outputs": [],
   "source": [
    "from JSAnimation.IPython_display import display_animation\n",
    "from ipywidgets import widgets\n",
    "from IPython.display import display\n",
    "from matplotlib import animation\n",
    "\n",
    "def display_frames_as_gif(frames, filename_gif = None):\n",
    "    \"\"\"\n",
    "    Displays a list of frames as a gif, with controls\n",
    "    \"\"\"\n",
    "    plt.figure(figsize=(frames[0].shape[1] / 72.0, frames[0].shape[0] / 72.0), dpi = 72)\n",
    "    patch = plt.imshow(frames[0])\n",
    "    plt.axis('off')\n",
    "\n",
    "    def animate(i):\n",
    "        patch.set_data(frames[i])\n",
    "\n",
    "    anim = animation.FuncAnimation(plt.gcf(), animate, frames = len(frames), interval=50)\n",
    "    if filename_gif: \n",
    "        anim.save(filename_gif, writer = 'imagemagick', fps=20)\n",
    "    display(display_animation(anim, default_mode='loop'))\n",
    "\n",
    "    \n",
    "frameshistory = []\n",
    "observation = env.reset()\n",
    "backupepsilon = agent.epsilon\n",
    "\n",
    "agent.epsilon = 0.2\n",
    "\n",
    "for _ in range(150):\n",
    "    action = agent.getAction()\n",
    "    \n",
    "    #print(action)\n",
    "    actionmax = np.argmax(np.array(action))\n",
    "    \n",
    "    nextObservation,reward,terminal, info = env.step(actionmax)\n",
    "    if terminal:\n",
    "        nextObservation = env.reset()\n",
    "    frameshistory.append(nextObservation)\n",
    "    nextObservation = preprocess(nextObservation)\n",
    "    agent.setPerception(nextObservation,action,reward,terminal)\n",
    "agent.epsilon = backupepsilon\n",
    "    \n",
    "display_frames_as_gif(frameshistory, 'playing_enduro.gif')\n",
    "\n",
    "agent.plot_cost()"
   ]
  },
  {
   "cell_type": "code",
   "execution_count": null,
   "metadata": {},
   "outputs": [],
   "source": []
  }
 ],
 "metadata": {
  "kernelspec": {
   "display_name": "Python 3",
   "language": "python",
   "name": "python3"
  },
  "language_info": {
   "codemirror_mode": {
    "name": "ipython",
    "version": 3
   },
   "file_extension": ".py",
   "mimetype": "text/x-python",
   "name": "python",
   "nbconvert_exporter": "python",
   "pygments_lexer": "ipython3",
   "version": "3.6.7"
  }
 },
 "nbformat": 4,
 "nbformat_minor": 2
}
